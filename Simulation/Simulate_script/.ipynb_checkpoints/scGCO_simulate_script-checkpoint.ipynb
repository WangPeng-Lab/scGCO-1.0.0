{
 "cells": [
  {
   "cell_type": "code",
   "execution_count": 1,
   "metadata": {},
   "outputs": [],
   "source": [
    "from scGCO import *\n",
    "import pandas as pd\n",
    "import numpy as np\n",
    "import matplotlib.pyplot as plt\n",
    "\n",
    "import warnings\n",
    "warnings.filterwarnings('ignore')\n",
    "%matplotlib inline"
   ]
  },
  {
   "cell_type": "code",
   "execution_count": null,
   "metadata": {
    "collapsed": true
   },
   "outputs": [],
   "source": [
    "nc=[]\n",
    "\n",
    "tt0=[]\n",
    "tt1=[]\n",
    "tt_all=[]\n",
    "\n",
    "sf=[15,20,25,30,30,55,55,65,60,65,45,45]\n",
    "\n",
    "#n_cell=[10000,15000,50000,100000,500000,1000000]    \n",
    "### when run the larger data, it needs lots of time and CPU memory;\n",
    "### for convenience, we don't test them here.\n",
    "\n",
    "n_cell=[100,250,500,1000,1500,5000]#,10000,15000,50000,100000]\n",
    "for j,i in enumerate(n_cell):\n",
    "    ff='../../data/Simulation_data/1_million_cells_100genes_counts_0.csv'\n",
    "    df = pd.read_csv(ff,index_col=0, iterator=True)\n",
    "    data=df.get_chunk(i)\n",
    "    temp = [val.split('x') for val in data.index.values]\n",
    "    locs = np.array([[float(a[0]), float(a[1])] for a in temp])\n",
    "\n",
    "    \n",
    "    data_norm = normalize_count_cellranger(data)\n",
    "\n",
    "    data_norm_rand = shuffle(data_norm)\n",
    "    similarity_cutoff = 0.7\n",
    "    top_seed_perc=0.1\n",
    "    cluster_size = 10\n",
    "    perplexity = 30\n",
    "    unary_scale_factor=100\n",
    "    label_cost=10\n",
    "    algorithm='expansion'\n",
    "\n",
    "    start_ts0=time.time()\n",
    "    sf0=sf[j]-10   ## run twice\n",
    "    print(i,sf0)\n",
    "    smooth_factor = estimate_smooth_factor(locs, data_norm_rand,start_sf =sf0 ,fdr_cutoff=0.001,iterations=2)\n",
    "    \n",
    "    start_ts1=time.time()\n",
    "    %memit result_df = identify_spatial_genes(locs, data_norm, smooth_factor)\n",
    "    start_ts2=time.time()\n",
    "    \n",
    "    t0=start_ts1-start_ts0\n",
    "    t1=start_ts2-start_ts1\n",
    "   # t2=end-start_ts2\n",
    "    ts_all=t0/60+t1/60\n",
    "    \n",
    "    print(i,smooth_factor)\n",
    "    print(t0/60,t1/60)\n",
    "    print(ts_all)\n",
    "\n",
    "    nc.append(int(i))  \n",
    "    #tt0.append(t0)\n",
    "    #tt.append(t1)\n",
    "    tt_all.append(ts_all)"
   ]
  },
  {
   "cell_type": "code",
   "execution_count": null,
   "metadata": {
    "collapsed": true
   },
   "outputs": [],
   "source": [
    "### output occupy memory and waster times"
   ]
  },
  {
   "cell_type": "code",
   "execution_count": 1,
   "metadata": {},
   "outputs": [
    {
     "data": {
      "text/plain": [
       "[100, 250, 500, 1000, 1500, 5000]"
      ]
     },
     "execution_count": 1,
     "metadata": {},
     "output_type": "execute_result"
    }
   ],
   "source": [
    "n_cell=[100, 250, 500, 1000, 1500, 5000]\n",
    "n_cell"
   ]
  },
  {
   "cell_type": "code",
   "execution_count": 3,
   "metadata": {},
   "outputs": [
    {
     "data": {
      "text/plain": [
       "[0.016732311248779295,\n",
       "\n",
       " 0.06490898132324219,\n",
       "\n",
       " 0.10553125540415445,\n",
       "\n",
       " 0.17693328857421875,\n",
       "\n",
       " 0.24364933172861736,\n",
       "\n",
       " 1.1078145543734232]"
      ]
     },
     "execution_count": 3,
     "metadata": {},
     "output_type": "execute_result"
    }
   ],
   "source": [
    "tt_all=[0.016732311248779295,\n",
    " 0.06490898132324219,\n",
    " 0.10553125540415445,\n",
    " 0.17693328857421875,\n",
    " 0.24364933172861736,\n",
    " 1.1078145543734232]\n",
    "tt_all"
   ]
  },
  {
   "cell_type": "code",
   "execution_count": 4,
   "metadata": {},
   "outputs": [
    {
     "data": {
      "text/plain": [
       "[173.18, 176.33, 179.91, 189.1, 193.71, 237.38]"
      ]
     },
     "execution_count": 4,
     "metadata": {},
     "output_type": "execute_result"
    }
   ],
   "source": [
    "memory=[173.18, 176.33, 179.91, 189.10, 193.71, 237.38 ]\n",
    "memory"
   ]
  },
  {
   "cell_type": "code",
   "execution_count": null,
   "metadata": {
    "collapsed": true
   },
   "outputs": [],
   "source": []
  },
  {
   "cell_type": "code",
   "execution_count": 8,
   "metadata": {},
   "outputs": [
    {
     "data": {
      "image/png": "[encoded data removed]",
      "text/plain": [
       "<Figure size 864x360 with 2 Axes>"
      ]
     },
     "metadata": {
      "needs_background": "light"
     },
     "output_type": "display_data"
    }
   ],
   "source": [
    "import matplotlib.pyplot as plt\n",
    "%matplotlib inline\n",
    "\n",
    "fig,ax=plt.subplots(1,2,figsize=(12,5))\n",
    "ax[0].plot(n_cell, memory, marker = 'o')\n",
    "ax[0].set_yscale('log')\n",
    "ax[0].set_xscale('log')\n",
    "ax[0].set_xlabel('Number of cells')\n",
    "ax[0].set_ylabel('Memory (MiB)')\n",
    "\n",
    "\n",
    "ax[1].plot(n_cell, tt_all, marker = 'o')\n",
    "ax[1].set_yscale('log')\n",
    "ax[1].set_xscale('log')\n",
    "ax[1].set_xlabel('Number of cells')\n",
    "ax[1].set_ylabel('Running time (minutes)')\n",
    "\n",
    "#plt.savefig('../../results//scGCO_running_time_code_ocean.pdf')\n",
    "plt.show()"
   ]
  },
  {
   "cell_type": "code",
   "execution_count": null,
   "metadata": {
    "collapsed": true
   },
   "outputs": [],
   "source": []
  }
 ],
 "metadata": {
  "kernelspec": {
   "display_name": "Python 3",
   "language": "python",
   "name": "python3"
  },
  "language_info": {
   "codemirror_mode": {
    "name": "ipython",
    "version": 3
   },
   "file_extension": ".py",
   "mimetype": "text/x-python",
   "name": "python",
   "nbconvert_exporter": "python",
   "pygments_lexer": "ipython3",
   "version": "3.6.7"
  }
 },
 "nbformat": 4,
 "nbformat_minor": 2
}
