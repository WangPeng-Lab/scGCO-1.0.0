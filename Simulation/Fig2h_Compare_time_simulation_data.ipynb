{
 "cells": [
  {
   "cell_type": "code",
   "execution_count": 1,
   "metadata": {
    "collapsed": true
   },
   "outputs": [],
   "source": [
    "import numpy as np\n",
    "import pandas as pd\n",
    "import matplotlib.pyplot as plt\n",
    "%matplotlib inline"
   ]
  },
  {
   "cell_type": "code",
   "execution_count": 2,
   "metadata": {
    "collapsed": true
   },
   "outputs": [],
   "source": [
    "plt.rcParams['axes.spines.right'] = False\n",
    "plt.rcParams['axes.spines.top'] = False"
   ]
  },
  {
   "cell_type": "code",
   "execution_count": 3,
   "metadata": {
    "collapsed": true
   },
   "outputs": [],
   "source": [
    "tre=np.array([425.340709,782.716105,1796.153258,7046.638657,14893.46375,\n",
    "              np.nan,np.nan,np.nan,np.nan,np.nan,np.nan,np.nan])\n",
    "de=np.array([4.312751,4.33418,4.940749,7.563069,12.091565,198.131749,\n",
    "            1385.162441,4518.892493,66056.648,np.nan,np.nan,np.nan])\n",
    "\n",
    "scgco=np.array([3.29367439e-02, 4.76617535e-02, 6.22993882e-02, 1.01502552e-01,\n",
    "       1.42505558e-01, 5.28052283e-01, 1.08464054e+00, 1.62565850e+00,\n",
    "       4.52753155e+00, 8.50838239e+00, 5.31699328e+01, 1.08919871e+02])"
   ]
  },
  {
   "cell_type": "code",
   "execution_count": 4,
   "metadata": {},
   "outputs": [
    {
     "data": {
      "text/html": [
       "<div>\n",
       "<style scoped>\n",
       "    .dataframe tbody tr th:only-of-type {\n",
       "        vertical-align: middle;\n",
       "    }\n",
       "\n",
       "    .dataframe tbody tr th {\n",
       "        vertical-align: top;\n",
       "    }\n",
       "\n",
       "    .dataframe thead th {\n",
       "        text-align: right;\n",
       "    }\n",
       "</style>\n",
       "<table border=\"1\" class=\"dataframe\">\n",
       "  <thead>\n",
       "    <tr style=\"text-align: right;\">\n",
       "      <th></th>\n",
       "      <th>trendsceek</th>\n",
       "      <th>SpatialDE</th>\n",
       "      <th>scGCO</th>\n",
       "    </tr>\n",
       "  </thead>\n",
       "  <tbody>\n",
       "    <tr>\n",
       "      <th>100</th>\n",
       "      <td>85.068142</td>\n",
       "      <td>0.071879</td>\n",
       "      <td>0.032937</td>\n",
       "    </tr>\n",
       "    <tr>\n",
       "      <th>250</th>\n",
       "      <td>156.543221</td>\n",
       "      <td>0.072236</td>\n",
       "      <td>0.047662</td>\n",
       "    </tr>\n",
       "    <tr>\n",
       "      <th>500</th>\n",
       "      <td>359.230652</td>\n",
       "      <td>0.082346</td>\n",
       "      <td>0.062299</td>\n",
       "    </tr>\n",
       "    <tr>\n",
       "      <th>1000</th>\n",
       "      <td>1409.327731</td>\n",
       "      <td>0.126051</td>\n",
       "      <td>0.101503</td>\n",
       "    </tr>\n",
       "    <tr>\n",
       "      <th>1500</th>\n",
       "      <td>2978.692750</td>\n",
       "      <td>0.201526</td>\n",
       "      <td>0.142506</td>\n",
       "    </tr>\n",
       "    <tr>\n",
       "      <th>5000</th>\n",
       "      <td>NaN</td>\n",
       "      <td>3.302196</td>\n",
       "      <td>0.528052</td>\n",
       "    </tr>\n",
       "    <tr>\n",
       "      <th>10000</th>\n",
       "      <td>NaN</td>\n",
       "      <td>23.086041</td>\n",
       "      <td>1.084641</td>\n",
       "    </tr>\n",
       "    <tr>\n",
       "      <th>15000</th>\n",
       "      <td>NaN</td>\n",
       "      <td>75.314875</td>\n",
       "      <td>1.625658</td>\n",
       "    </tr>\n",
       "    <tr>\n",
       "      <th>50000</th>\n",
       "      <td>NaN</td>\n",
       "      <td>1100.944133</td>\n",
       "      <td>4.527532</td>\n",
       "    </tr>\n",
       "    <tr>\n",
       "      <th>100000</th>\n",
       "      <td>NaN</td>\n",
       "      <td>NaN</td>\n",
       "      <td>8.508382</td>\n",
       "    </tr>\n",
       "    <tr>\n",
       "      <th>500000</th>\n",
       "      <td>NaN</td>\n",
       "      <td>NaN</td>\n",
       "      <td>53.169933</td>\n",
       "    </tr>\n",
       "    <tr>\n",
       "      <th>1000000</th>\n",
       "      <td>NaN</td>\n",
       "      <td>NaN</td>\n",
       "      <td>108.919871</td>\n",
       "    </tr>\n",
       "  </tbody>\n",
       "</table>\n",
       "</div>"
      ],
      "text/plain": [
       "          trendsceek    SpatialDE       scGCO\n",
       "100        85.068142     0.071879    0.032937\n",
       "250       156.543221     0.072236    0.047662\n",
       "500       359.230652     0.082346    0.062299\n",
       "1000     1409.327731     0.126051    0.101503\n",
       "1500     2978.692750     0.201526    0.142506\n",
       "5000             NaN     3.302196    0.528052\n",
       "10000            NaN    23.086041    1.084641\n",
       "15000            NaN    75.314875    1.625658\n",
       "50000            NaN  1100.944133    4.527532\n",
       "100000           NaN          NaN    8.508382\n",
       "500000           NaN          NaN   53.169933\n",
       "1000000          NaN          NaN  108.919871"
      ]
     },
     "execution_count": 4,
     "metadata": {},
     "output_type": "execute_result"
    }
   ],
   "source": [
    "\n",
    "time_df=pd.DataFrame({'trendsceek':tre/5,'SpatialDE':de/60,'scGCO':scgco},\n",
    "                 index=[100,250,500,1000,1500,5000,10000,15000,50000,100000,500000,1000000] )\n",
    "time_df"
   ]
  },
  {
   "cell_type": "code",
   "execution_count": 6,
   "metadata": {},
   "outputs": [
    {
     "data": {
      "image/png": "[encoded data removed]",
      "text/plain": [
       "<Figure size 1080x576 with 1 Axes>"
      ]
     },
     "metadata": {},
     "output_type": "display_data"
    }
   ],
   "source": [
    "## 100 genes\n",
    "time=time_df\n",
    "\n",
    "plt.figure(figsize=(15,8))\n",
    "plt.yscale(\"log\")\n",
    "plt.xscale(\"log\")\n",
    "\n",
    "colors={'trendsceek':'tab',\"scGCO\":'tab'}\n",
    "for method in colors:\n",
    "    plt.plot(time.index.values,time.loc[:,method],lw=6,color=\"w\",label='')\n",
    "\n",
    "plt.plot(time.index.values,time.scGCO.values,'r-',marker='.',label='scGCO',lw=2,ms=12)\n",
    "plt.plot(time.iloc[0:8,1].index.values,time.iloc[0:8,1].values,'b-',marker='.',label='spatialDE',\n",
    "        lw=2,ms=12,alpha=0.7)\n",
    "plt.plot(time.iloc[7:10,1].index.values,time.iloc[7:10,1].values,'b:',marker='.',\n",
    "        lw=2,ms=12)\n",
    "plt.plot(time.index.values,time.trendsceek.values,'g-',marker='.',label='trendSceek',lw=2,ms=12)\n",
    "\n",
    "\n",
    "\n",
    "\n",
    "\n",
    "#plt.title(\"Running time(100 genes)\",size=18)\n",
    "\n",
    "#plt.legend(numpoints=2, bbox_to_anchor=(1, 0), frameon=False)\n",
    "plt.legend(numpoints=2, frameon=False)\n",
    "\n",
    "plt.xlabel(\"Number of cells\",size=15)\n",
    "plt.ylabel(\"Running time(minute)\",size=15)\n",
    "\n",
    "\n",
    "plt.axhline(1, lw=1, c='k', zorder=0, ls='--')\n",
    "plt.annotate('1 mins', (54, 1*1.1), va='bottom',fontsize=12)\n",
    "\n",
    "plt.axhline(10, lw=1, c='k', zorder=0, ls='--')\n",
    "plt.annotate('10 mins', (54, 10*1.1), va='bottom',fontsize=12)\n",
    "\n",
    "plt.axhline(60, lw=1, c='k', zorder=0, ls='--');\n",
    "plt.annotate('1 hour', (54, 60 * 1.1), va='bottom',fontsize=12)\n",
    "\n",
    "plt.axhline(60 * 24, lw=1, c='k', zorder=0, ls='--');\n",
    "plt.annotate('1 day', (54, 24 * 60 * 1.1), va='bottom',fontsize=12)\n",
    "\n",
    "plt.axhline(60 * 24 * 2, lw=1, c='k', zorder=0, ls='--');\n",
    "plt.annotate('2 days', (54, 2 * 24 * 60 * 1.1), va='bottom',fontsize=12)\n",
    "\n",
    "#plt.axhline(60 * 24 * 14, lw=1, c='k', zorder=0, ls='--');\n",
    "#plt.annotate('2 week', (54, 14 * 24 * 60 * 1.1), va='bottom')\n",
    "\n",
    "\n",
    "plt.xlim([50,1500000])\n",
    "plt.ylim([10E-3,10E3])\n",
    "xtick=[100,250,500,1000,1500,5000,10000,15000,50000,100000,500000,1000000]\n",
    "xlabel=['100','250','500','1000','1500','5000','10K','15K','50K','100K','500K','1M']\n",
    "plt.xticks(xtick,xlabel,rotation=45,fontsize=12)\n",
    "plt.yticks(fontsize=12)\n",
    "plt.legend(ncol=3,loc=(0.3,1.05),fontsize=12,frameon=False)\n",
    "plt.savefig('../figures//Fig2h.pdf')\n",
    "plt.show()"
   ]
  },
  {
   "cell_type": "code",
   "execution_count": 6,
   "metadata": {},
   "outputs": [
    {
     "data": {
      "text/plain": [
       "1.8153333333333335"
      ]
     },
     "execution_count": 6,
     "metadata": {},
     "output_type": "execute_result"
    }
   ],
   "source": [
    "108.92/60"
   ]
  },
  {
   "cell_type": "code",
   "execution_count": null,
   "metadata": {
    "collapsed": true
   },
   "outputs": [],
   "source": []
  },
  {
   "cell_type": "code",
   "execution_count": null,
   "metadata": {
    "collapsed": true
   },
   "outputs": [],
   "source": []
  }
 ],
 "metadata": {
  "kernelspec": {
   "display_name": "Python 3",
   "language": "python",
   "name": "python3"
  },
  "language_info": {
   "codemirror_mode": {
    "name": "ipython",
    "version": 3
   },
   "file_extension": ".py",
   "mimetype": "text/x-python",
   "name": "python",
   "nbconvert_exporter": "python",
   "pygments_lexer": "ipython3",
   "version": "3.6.7"
  }
 },
 "nbformat": 4,
 "nbformat_minor": 2
}
