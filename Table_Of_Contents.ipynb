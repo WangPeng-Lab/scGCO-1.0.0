{
 "cells": [
  {
   "cell_type": "markdown",
   "metadata": {},
   "source": [
    "This capsule contains all of the analysis that went into the manuscript \"Single-cell Graph Cuts Optimization(scGCO)\"\n",
    "\n",
    "The manuscript and analysis are broken up into 5 parts:\n",
    "\n",
    "1. Analysis of MouseOB data\n",
    "\n",
    "2. Analysis of Breast_Cancer data\n",
    "\n",
    "3. Analysis of MERFISH data\n",
    "\n",
    "4. Analysis of seqFISH data\n",
    "\n",
    "5. Benckmark of simulated data\n",
    "\n",
    "These sections are in turn broken up into subsections that preprocess the data, run the scGCO pipeline, and interpret the results to generate the figures and statistics reported in the manuscript.([FIG2_a_b_c_d](/Analysis/FIG2_a_b_c_d.ipynb) , [FIG2_e_f](/Analysis/FIG2_e_f.ipynb))\n",
    "\n",
    "Below is a table of contents containing links to the various notebooks where each of these steps is carried out.\n",
    "\n",
    "Part 0 Manuscript\n",
    "\n",
    "* [scGCO_tutorial](/Tutorial/scGCO_tutorial.ipynb)\n",
    "\n",
    "\n",
    "Part 1 MouseOB\n",
    "\n",
    "* [gen_Suppl_Fig1](/Analysis/MouseOB/gen_Suppl_Fig1.ipynb)\n",
    "* [gen_Suppl_Fig2](/Analysis/MouseOB/gen_Suppl_Fig2.ipynb)\n",
    "* [gen_Suppl_Fig6](/Analysis/MouseOB/gen_Suppl_Fig6.ipynb)\n",
    "\n",
    "\n",
    "Part 2 Breast_Cancer\n",
    "\n",
    "* [gen_Layer2_Fig](/Analysis/Breast_Cancer/gen_Layer2_Fig.ipynb)\n",
    "* [gen_Suppl_Fig10](/Analysis/Breast_Cancer/gen_Suppl_Fig10.ipynb)\n",
    "\n",
    "Part 3 MERFISH\n",
    "\n",
    "* [gen_Suppl_Fig14](/Analysis/MERFISH/gen_Suppl_Fig14.ipynb)\n",
    "\n",
    "\n",
    "Part 4 seqFISH\n",
    "\n",
    "\n",
    "Part 5 simulations\n",
    "\n",
    "* [scGCO_simulate_script.ipynb](/Simulation/Simulate_script/scGCO_simulate_script.ipynb)\n",
    "* [scGCO_simulate_500K_large.ipynb](/Simulation/Simulate_script/scGCO_simulate_500K_large.ipynb)\n",
    "* [scGCO_simulate_1M_large.ipynb](/Simulation/Simulate_script/scGCO_simulate_1M_large.ipynb)\n",
    "* [spatialDE_simulate_script.ipynb](/Simulation/Simulate_script/spatialDE_simulate_script.ipynb)\n",
    "* [Fig2g_Compare_memory_simulation_data](/Simulation/Fig2g_Compare_memory_simulation_data.ipynb)\n",
    "* [Fig2h_Compare_time_simulation_data](/Simulation/Fig2h_Compare_time_simulation_data.ipynb)\n"
   ]
  }
 ],
 "metadata": {
  "kernelspec": {
   "display_name": "Python 3",
   "language": "python",
   "name": "python3"
  },
  "language_info": {
   "codemirror_mode": {
    "name": "ipython",
    "version": 3
   },
   "file_extension": ".py",
   "mimetype": "text/x-python",
   "name": "python",
   "nbconvert_exporter": "python",
   "pygments_lexer": "ipython3",
   "version": "3.6.7"
  }
 },
 "nbformat": 4,
 "nbformat_minor": 2
}
